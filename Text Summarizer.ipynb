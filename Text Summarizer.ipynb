{
 "cells": [
  {
   "cell_type": "code",
   "execution_count": 19,
   "id": "2eded999",
   "metadata": {},
   "outputs": [],
   "source": [
    "import spacy\n",
    "from string import punctuation\n",
    "nlp = spacy.load(\"en_core_web_sm\")"
   ]
  },
  {
   "cell_type": "code",
   "execution_count": 68,
   "id": "80f8eacc",
   "metadata": {},
   "outputs": [],
   "source": [
    "text = '''John McEnroe, the legendary tennis player, often finds himself in solitude when it comes to friendships within the world of professional tennis. McEnroe, known for his fiery temperament on the court, has never been one to hide his true feelings.\n",
    "In a recent interview, he candidly expressed, 'When I step onto that court, I'm in it to win it, no matter who's on the other side of the net. I'm not one to strike up idle chatter about the weather when I know I've got a match to win.'\n",
    "McEnroe's competitive spirit is undeniable, and while he may exchange pleasantries with fellow players, sending flowers is not in his playbook. He acknowledges that he's not particularly friendly or close to many players on the tour.\n",
    "But is this deliberate? Is there a strategy behind his approach? Is it any different on the men's tour compared to the women's tour?\n",
    "'Not at all,' says McEnroe. 'Just because we share the same sport doesn't mean we have to be best buddies. People have different interests. I've got friends with entirely different careers and passions, and I met them in various stages of my life.'\n",
    "He goes on to explain that while tennis is a significant part of their lives, there are countless other interests and pursuits that occupy their time and minds. The assumption that tennis players should all be close friends is, according to McEnroe, a misconception.\n",
    "In the end, the tennis court represents just one facet of their lives, and there are numerous other passions and pursuits that define who they are.'''"
   ]
  },
  {
   "cell_type": "code",
   "execution_count": 69,
   "id": "f8a1dd91",
   "metadata": {},
   "outputs": [
    {
     "name": "stdout",
     "output_type": "stream",
     "text": [
      "['John', 'McEnroe', ',', 'the', 'legendary', 'tennis', 'player', ',', 'often', 'finds', 'himself', 'in', 'solitude', 'when', 'it', 'comes', 'to', 'friendships', 'within', 'the', 'world', 'of', 'professional', 'tennis', '.', 'McEnroe', ',', 'known', 'for', 'his', 'fiery', 'temperament', 'on', 'the', 'court', ',', 'has', 'never', 'been', 'one', 'to', 'hide', 'his', 'true', 'feelings', '.', '\\n', 'In', 'a', 'recent', 'interview', ',', 'he', 'candidly', 'expressed', ',', \"'\", 'When', 'I', 'step', 'onto', 'that', 'court', ',', 'I', \"'m\", 'in', 'it', 'to', 'win', 'it', ',', 'no', 'matter', 'who', \"'s\", 'on', 'the', 'other', 'side', 'of', 'the', 'net', '.', 'I', \"'m\", 'not', 'one', 'to', 'strike', 'up', 'idle', 'chatter', 'about', 'the', 'weather', 'when', 'I', 'know', 'I', \"'ve\", 'got', 'a', 'match', 'to', 'win', '.', \"'\", '\\n', 'McEnroe', \"'s\", 'competitive', 'spirit', 'is', 'undeniable', ',', 'and', 'while', 'he', 'may', 'exchange', 'pleasantries', 'with', 'fellow', 'players', ',', 'sending', 'flowers', 'is', 'not', 'in', 'his', 'playbook', '.', 'He', 'acknowledges', 'that', 'he', \"'s\", 'not', 'particularly', 'friendly', 'or', 'close', 'to', 'many', 'players', 'on', 'the', 'tour', '.', '\\n', 'But', 'is', 'this', 'deliberate', '?', 'Is', 'there', 'a', 'strategy', 'behind', 'his', 'approach', '?', 'Is', 'it', 'any', 'different', 'on', 'the', 'men', \"'s\", 'tour', 'compared', 'to', 'the', 'women', \"'s\", 'tour', '?', '\\n', \"'\", 'Not', 'at', 'all', ',', \"'\", 'says', 'McEnroe', '.', \"'\", 'Just', 'because', 'we', 'share', 'the', 'same', 'sport', 'does', \"n't\", 'mean', 'we', 'have', 'to', 'be', 'best', 'buddies', '.', 'People', 'have', 'different', 'interests', '.', 'I', \"'ve\", 'got', 'friends', 'with', 'entirely', 'different', 'careers', 'and', 'passions', ',', 'and', 'I', 'met', 'them', 'in', 'various', 'stages', 'of', 'my', 'life', '.', \"'\", '\\n', 'He', 'goes', 'on', 'to', 'explain', 'that', 'while', 'tennis', 'is', 'a', 'significant', 'part', 'of', 'their', 'lives', ',', 'there', 'are', 'countless', 'other', 'interests', 'and', 'pursuits', 'that', 'occupy', 'their', 'time', 'and', 'minds', '.', 'The', 'assumption', 'that', 'tennis', 'players', 'should', 'all', 'be', 'close', 'friends', 'is', ',', 'according', 'to', 'McEnroe', ',', 'a', 'misconception', '.', '\\n', 'In', 'the', 'end', ',', 'the', 'tennis', 'court', 'represents', 'just', 'one', 'facet', 'of', 'their', 'lives', ',', 'and', 'there', 'are', 'numerous', 'other', 'passions', 'and', 'pursuits', 'that', 'define', 'who', 'they', 'are', '.']\n"
     ]
    }
   ],
   "source": [
    "doc = nlp(text)\n",
    "tokens = [token.text for token in doc]\n",
    "print(tokens)"
   ]
  },
  {
   "cell_type": "code",
   "execution_count": 70,
   "id": "aa6a164a",
   "metadata": {},
   "outputs": [],
   "source": [
    "from spacy.lang.en.stop_words import STOP_WORDS\n",
    "stopwords = list(STOP_WORDS)"
   ]
  },
  {
   "cell_type": "code",
   "execution_count": 71,
   "id": "1f32b258",
   "metadata": {},
   "outputs": [
    {
     "name": "stdout",
     "output_type": "stream",
     "text": [
      "{'John': 1, 'McEnroe': 5, 'legendary': 1, 'tennis': 5, 'player': 1, 'finds': 1, 'solitude': 1, 'comes': 1, 'friendships': 1, 'world': 1, 'professional': 1, 'known': 1, 'fiery': 1, 'temperament': 1, 'court': 3, 'hide': 1, 'true': 1, 'feelings': 1, 'recent': 1, 'interview': 1, 'candidly': 1, 'expressed': 1, 'step': 1, 'win': 2, 'matter': 1, 'net': 1, 'strike': 1, 'idle': 1, 'chatter': 1, 'weather': 1, 'know': 1, 'got': 2, 'match': 1, 'competitive': 1, 'spirit': 1, 'undeniable': 1, 'exchange': 1, 'pleasantries': 1, 'fellow': 1, 'players': 3, 'sending': 1, 'flowers': 1, 'playbook': 1, 'acknowledges': 1, 'particularly': 1, 'friendly': 1, 'close': 2, 'tour': 3, 'deliberate': 1, 'strategy': 1, 'approach': 1, 'different': 3, 'men': 1, 'compared': 1, 'women': 1, 'says': 1, 'share': 1, 'sport': 1, 'mean': 1, 'best': 1, 'buddies': 1, 'People': 1, 'interests': 2, 'friends': 2, 'entirely': 1, 'careers': 1, 'passions': 2, 'met': 1, 'stages': 1, 'life': 1, 'goes': 1, 'explain': 1, 'significant': 1, 'lives': 2, 'countless': 1, 'pursuits': 2, 'occupy': 1, 'time': 1, 'minds': 1, 'assumption': 1, 'according': 1, 'misconception': 1, 'end': 1, 'represents': 1, 'facet': 1, 'numerous': 1, 'define': 1}\n"
     ]
    }
   ],
   "source": [
    "punctuation = punctuation + '\\n'\n",
    "\n",
    "word_freq = {}\n",
    "\n",
    "for word in doc:\n",
    "    if word.text.lower() not in stopwords:\n",
    "        if word.text.lower() not in punctuation:\n",
    "            word_freq[word.text] = word_freq.get(word.text, 0) + 1\n",
    "\n",
    "print(word_freq)"
   ]
  },
  {
   "cell_type": "code",
   "execution_count": 72,
   "id": "9951b38f",
   "metadata": {},
   "outputs": [
    {
     "data": {
      "text/plain": [
       "5"
      ]
     },
     "execution_count": 72,
     "metadata": {},
     "output_type": "execute_result"
    }
   ],
   "source": [
    "max_freq = max(word_freq.values())\n",
    "\n",
    "max_freq"
   ]
  },
  {
   "cell_type": "code",
   "execution_count": 73,
   "id": "176a9daf",
   "metadata": {},
   "outputs": [
    {
     "name": "stdout",
     "output_type": "stream",
     "text": [
      "{'John': 0.2, 'McEnroe': 1.0, 'legendary': 0.2, 'tennis': 1.0, 'player': 0.2, 'finds': 0.2, 'solitude': 0.2, 'comes': 0.2, 'friendships': 0.2, 'world': 0.2, 'professional': 0.2, 'known': 0.2, 'fiery': 0.2, 'temperament': 0.2, 'court': 0.6, 'hide': 0.2, 'true': 0.2, 'feelings': 0.2, 'recent': 0.2, 'interview': 0.2, 'candidly': 0.2, 'expressed': 0.2, 'step': 0.2, 'win': 0.4, 'matter': 0.2, 'net': 0.2, 'strike': 0.2, 'idle': 0.2, 'chatter': 0.2, 'weather': 0.2, 'know': 0.2, 'got': 0.4, 'match': 0.2, 'competitive': 0.2, 'spirit': 0.2, 'undeniable': 0.2, 'exchange': 0.2, 'pleasantries': 0.2, 'fellow': 0.2, 'players': 0.6, 'sending': 0.2, 'flowers': 0.2, 'playbook': 0.2, 'acknowledges': 0.2, 'particularly': 0.2, 'friendly': 0.2, 'close': 0.4, 'tour': 0.6, 'deliberate': 0.2, 'strategy': 0.2, 'approach': 0.2, 'different': 0.6, 'men': 0.2, 'compared': 0.2, 'women': 0.2, 'says': 0.2, 'share': 0.2, 'sport': 0.2, 'mean': 0.2, 'best': 0.2, 'buddies': 0.2, 'People': 0.2, 'interests': 0.4, 'friends': 0.4, 'entirely': 0.2, 'careers': 0.2, 'passions': 0.4, 'met': 0.2, 'stages': 0.2, 'life': 0.2, 'goes': 0.2, 'explain': 0.2, 'significant': 0.2, 'lives': 0.4, 'countless': 0.2, 'pursuits': 0.4, 'occupy': 0.2, 'time': 0.2, 'minds': 0.2, 'assumption': 0.2, 'according': 0.2, 'misconception': 0.2, 'end': 0.2, 'represents': 0.2, 'facet': 0.2, 'numerous': 0.2, 'define': 0.2}\n"
     ]
    }
   ],
   "source": [
    "for word in word_freq.keys():\n",
    "    word_freq[word] = word_freq[word]/max_freq\n",
    "print(word_freq)"
   ]
  },
  {
   "cell_type": "code",
   "execution_count": 74,
   "id": "d222da5d",
   "metadata": {},
   "outputs": [],
   "source": [
    "sentence_tokens = [sent for sent in doc.sents]"
   ]
  },
  {
   "cell_type": "code",
   "execution_count": 75,
   "id": "7c5d9e3c",
   "metadata": {},
   "outputs": [
    {
     "name": "stdout",
     "output_type": "stream",
     "text": [
      "[John McEnroe, the legendary tennis player, often finds himself in solitude when it comes to friendships within the world of professional tennis., McEnroe, known for his fiery temperament on the court, has never been one to hide his true feelings.\n",
      ", In a recent interview, he candidly expressed, 'When I step onto that court, I'm in it to win it, no matter who's on the other side of the net., I'm not one to strike up idle chatter about the weather when I know I've got a match to win.'\n",
      ", McEnroe's competitive spirit is undeniable, and while he may exchange pleasantries with fellow players, sending flowers is not in his playbook., He acknowledges that he's not particularly friendly or close to many players on the tour.\n",
      ", But is this deliberate?, Is there a strategy behind his approach?, Is it any different on the men's tour compared to the women's tour?\n",
      "'Not at all,' says McEnroe., 'Just because we share the same sport doesn't mean we have to be best buddies., People have different interests., I've got friends with entirely different careers and passions, and I met them in various stages of my life.'\n",
      ", He goes on to explain that while tennis is a significant part of their lives, there are countless other interests and pursuits that occupy their time and minds., The assumption that tennis players should all be close friends is, according to McEnroe, a misconception.\n",
      ", In the end, the tennis court represents just one facet of their lives, and there are numerous other passions and pursuits that define who they are.]\n"
     ]
    }
   ],
   "source": [
    "print(sentence_tokens)"
   ]
  },
  {
   "cell_type": "code",
   "execution_count": 76,
   "id": "2e436a73",
   "metadata": {},
   "outputs": [
    {
     "name": "stdout",
     "output_type": "stream",
     "text": [
      "{John McEnroe, the legendary tennis player, often finds himself in solitude when it comes to friendships within the world of professional tennis.: 3.6, McEnroe, known for his fiery temperament on the court, has never been one to hide his true feelings.\n",
      ": 1.8, In a recent interview, he candidly expressed, 'When I step onto that court, I'm in it to win it, no matter who's on the other side of the net.: 2.4000000000000004, I'm not one to strike up idle chatter about the weather when I know I've got a match to win.'\n",
      ": 2.0, McEnroe's competitive spirit is undeniable, and while he may exchange pleasantries with fellow players, sending flowers is not in his playbook.: 2.4, He acknowledges that he's not particularly friendly or close to many players on the tour.\n",
      ": 2.2, But is this deliberate?: 0.2, Is there a strategy behind his approach?: 0.4, Is it any different on the men's tour compared to the women's tour?\n",
      "'Not at all,' says McEnroe.: 2.6, 'Just because we share the same sport doesn't mean we have to be best buddies.: 1.0, People have different interests.: 1.0, I've got friends with entirely different careers and passions, and I met them in various stages of my life.'\n",
      ": 2.8000000000000007, He goes on to explain that while tennis is a significant part of their lives, there are countless other interests and pursuits that occupy their time and minds.: 3.6000000000000005, The assumption that tennis players should all be close friends is, according to McEnroe, a misconception.\n",
      ": 3.0, In the end, the tennis court represents just one facet of their lives, and there are numerous other passions and pursuits that define who they are.: 3.8}\n"
     ]
    }
   ],
   "source": [
    "sentence_scores = {}\n",
    "for sent in sentence_tokens:\n",
    "    for word in sent:\n",
    "        if word.text.lower() in word_freq.keys():\n",
    "            if sent not in sentence_scores.keys():\n",
    "                sentence_scores[sent] = word_freq[word.text.lower()]\n",
    "            else:\n",
    "                sentence_scores[sent] += word_freq[word.text.lower()]\n",
    "print(sentence_scores)"
   ]
  },
  {
   "cell_type": "code",
   "execution_count": 77,
   "id": "24e29bcd",
   "metadata": {},
   "outputs": [
    {
     "name": "stdout",
     "output_type": "stream",
     "text": [
      "4\n"
     ]
    }
   ],
   "source": [
    "from heapq import nlargest\n",
    "\n",
    "select_length = int(len(sentence_tokens)*0.3)\n",
    "print(select_length)"
   ]
  },
  {
   "cell_type": "code",
   "execution_count": 78,
   "id": "bb87799c",
   "metadata": {},
   "outputs": [],
   "source": [
    "summary = nlargest(select_length, sentence_scores, key = sentence_scores.get)"
   ]
  },
  {
   "cell_type": "code",
   "execution_count": 79,
   "id": "5bab0ea9",
   "metadata": {},
   "outputs": [
    {
     "name": "stdout",
     "output_type": "stream",
     "text": [
      "In the end, the tennis court represents just one facet of their lives, and there are numerous other passions and pursuits that define who they are. He goes on to explain that while tennis is a significant part of their lives, there are countless other interests and pursuits that occupy their time and minds. John McEnroe, the legendary tennis player, often finds himself in solitude when it comes to friendships within the world of professional tennis. The assumption that tennis players should all be close friends is, according to McEnroe, a misconception.\n",
      "\n"
     ]
    }
   ],
   "source": [
    "final_summary = [word.text for word in summary]\n",
    "summary = \" \".join(final_summary)\n",
    "print(summary)"
   ]
  },
  {
   "cell_type": "code",
   "execution_count": null,
   "id": "a56c894d",
   "metadata": {},
   "outputs": [],
   "source": []
  }
 ],
 "metadata": {
  "kernelspec": {
   "display_name": "Python 3 (ipykernel)",
   "language": "python",
   "name": "python3"
  },
  "language_info": {
   "codemirror_mode": {
    "name": "ipython",
    "version": 3
   },
   "file_extension": ".py",
   "mimetype": "text/x-python",
   "name": "python",
   "nbconvert_exporter": "python",
   "pygments_lexer": "ipython3",
   "version": "3.9.9"
  }
 },
 "nbformat": 4,
 "nbformat_minor": 5
}
